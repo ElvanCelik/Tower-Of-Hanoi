{
 "cells": [
  {
   "cell_type": "code",
   "execution_count": 1,
   "id": "76bd6ac4",
   "metadata": {},
   "outputs": [
    {
     "name": "stdout",
     "output_type": "stream",
     "text": [
      "Diski hareket ettirin: A ---> B\n",
      "Diski hareket ettirin: A ---> C\n",
      "Diski hareket ettirin: B ---> C\n",
      "Diski hareket ettirin: A ---> B\n",
      "Diski hareket ettirin: C ---> A\n",
      "Diski hareket ettirin: C ---> B\n",
      "Diski hareket ettirin: A ---> B\n",
      "Diski hareket ettirin: A ---> C\n",
      "Diski hareket ettirin: B ---> C\n",
      "Diski hareket ettirin: B ---> A\n",
      "Diski hareket ettirin: C ---> A\n",
      "Diski hareket ettirin: B ---> C\n",
      "Diski hareket ettirin: A ---> B\n",
      "Diski hareket ettirin: A ---> C\n",
      "Diski hareket ettirin: B ---> C\n"
     ]
    }
   ],
   "source": [
    "def move(fr, to):\n",
    "    # Diski belirtilen kaynaktan hedefe taşıyan fonksiyon.\n",
    "    print(\"Diski hareket ettirin: \" + str(fr) + \" ---> \" + str(to))\n",
    "\n",
    "def playHanoi(n, baslangic, bitis, gecici):\n",
    "    if n == 1:\n",
    "        # Eğer sadece bir disk varsa, doğrudan kaynaktan hedefe taşı.\n",
    "        move(baslangic, bitis)\n",
    "    else:\n",
    "        # Önce n-1 diskini geçici çubuktan hedef çubuğa taşı.\n",
    "        playHanoi(n-1, baslangic, gecici, bitis)\n",
    "        # Kalan bir diskini kaynaktan hedefe taşı.\n",
    "        playHanoi(1, baslangic, bitis, gecici)\n",
    "        # Geçici çubuktaki n-1 diskini hedef çubuğa taşı.\n",
    "        playHanoi(n-1, gecici, bitis, baslangic)\n",
    "\n",
    "# Hanoi kulesi oyununu başlat ve 4 diskle oynat.\n",
    "playHanoi(4, \"A\", \"C\", \"B\")"
   ]
  },
  {
   "cell_type": "code",
   "execution_count": null,
   "id": "83853019",
   "metadata": {},
   "outputs": [],
   "source": []
  }
 ],
 "metadata": {
  "kernelspec": {
   "display_name": "Python 3",
   "language": "python",
   "name": "python3"
  },
  "language_info": {
   "codemirror_mode": {
    "name": "ipython",
    "version": 3
   },
   "file_extension": ".py",
   "mimetype": "text/x-python",
   "name": "python",
   "nbconvert_exporter": "python",
   "pygments_lexer": "ipython3",
   "version": "3.8.8"
  }
 },
 "nbformat": 4,
 "nbformat_minor": 5
}
